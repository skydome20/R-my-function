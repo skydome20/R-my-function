{
  "nbformat": 4,
  "nbformat_minor": 0,
  "metadata": {
    "colab": {
      "name": "numpy_cupy_example.ipynb",
      "version": "0.3.2",
      "provenance": [],
      "collapsed_sections": [],
      "include_colab_link": true
    },
    "kernelspec": {
      "name": "python3",
      "display_name": "Python 3"
    },
    "accelerator": "GPU"
  },
  "cells": [
    {
      "cell_type": "markdown",
      "metadata": {
        "id": "view-in-github",
        "colab_type": "text"
      },
      "source": [
        "<a href=\"https://colab.research.google.com/github/skydome20/R-my-function/blob/master/numpy_cupy_example.ipynb\" target=\"_parent\"><img src=\"https://colab.research.google.com/assets/colab-badge.svg\" alt=\"Open In Colab\"/></a>"
      ]
    },
    {
      "metadata": {
        "id": "GTC92JP_aHJE",
        "colab_type": "code",
        "colab": {
          "base_uri": "https://localhost:8080/",
          "height": 35
        },
        "outputId": "caf1ba64-9287-4719-b47b-c40b14053de8"
      },
      "cell_type": "code",
      "source": [
        "print('hello world!')"
      ],
      "execution_count": 41,
      "outputs": [
        {
          "output_type": "stream",
          "text": [
            "hello world!\n"
          ],
          "name": "stdout"
        }
      ]
    },
    {
      "metadata": {
        "id": "NI8gPasNaN8s",
        "colab_type": "code",
        "colab": {
          "base_uri": "https://localhost:8080/",
          "height": 256
        },
        "outputId": "024c2fba-c7f3-4049-f5b8-7488efe0c57e"
      },
      "cell_type": "code",
      "source": [
        "%%time\n",
        "!pip install cupy"
      ],
      "execution_count": 5,
      "outputs": [
        {
          "output_type": "stream",
          "text": [
            "Collecting cupy\n",
            "  Using cached https://files.pythonhosted.org/packages/1c/16/788a9e55c92a9c6b022811a30aeee9f26eef7010516d12df5a33be69484c/cupy-5.1.0.tar.gz\n",
            "Requirement already satisfied: numpy>=1.9.0 in /usr/local/lib/python3.6/dist-packages (from cupy) (1.14.6)\n",
            "Requirement already satisfied: six>=1.9.0 in /usr/local/lib/python3.6/dist-packages (from cupy) (1.11.0)\n",
            "Requirement already satisfied: fastrlock>=0.3 in /usr/local/lib/python3.6/dist-packages (from cupy) (0.4)\n",
            "Building wheels for collected packages: cupy\n",
            "  Running setup.py bdist_wheel for cupy ... \u001b[?25l-\b \b\\\b \b|\b \b/\b \b-\b \b\\\b \b|\b \b/\b \b-\b \b\\\b \b|\b \b/\b \b-\b \b\\\b \b|\b \b/\b \b-\b \b\\\b \b|\b \b/\b \b-\b \b\\\b \b|\b \b/\b \b-\b \b\\\b \b|\b \b/\b \b-\b \b\\\b \b|\b \b/\b \b-\b \b\\\b \b|\b \b/\b \b-\b \b\\\b \b|\b \b/\b \b-\b \b\\\b \b|\b \b/\b \b-\b \b\\\b \b|\b \b/\b \b-\b \b\\\b \b|\b \b/\b \b-\b \b\\\b \b|\b \b/\b \b-\b \b\\\b \b|\b \b/\b \b-\b \b\\\b \b|\b \b/\b \b-\b \b\\\b \b|\b \b/\b \b-\b \bdone\n",
            "\u001b[?25h  Stored in directory: /root/.cache/pip/wheels/dd/c8/51/edc389a17a790b3d15b8f756f91dcbc021ce2eeb494e406a55\n",
            "Successfully built cupy\n",
            "Installing collected packages: cupy\n",
            "Successfully installed cupy-5.1.0\n",
            "CPU times: user 3.58 s, sys: 567 ms, total: 4.15 s\n",
            "Wall time: 11min 54s\n"
          ],
          "name": "stdout"
        }
      ]
    },
    {
      "metadata": {
        "id": "UWq-4SXzaP9D",
        "colab_type": "code",
        "colab": {}
      },
      "cell_type": "code",
      "source": [
        "import pandas as pd\n",
        "import numpy as np\n",
        "import cupy as cp\n",
        "from datetime import datetime"
      ],
      "execution_count": 0,
      "outputs": []
    },
    {
      "metadata": {
        "id": "znQLWxPZaRJy",
        "colab_type": "code",
        "colab": {}
      },
      "cell_type": "code",
      "source": [
        "lot_info = pd.DataFrame({'tmp':list(range(0, 10000)), 'MOST_CHUCK':list(range(0, 10000))})"
      ],
      "execution_count": 0,
      "outputs": []
    },
    {
      "metadata": {
        "id": "OdP2N13kzoph",
        "colab_type": "code",
        "colab": {
          "base_uri": "https://localhost:8080/",
          "height": 35
        },
        "outputId": "7fcd5ae9-23d7-4644-fd8a-12348c05d959"
      },
      "cell_type": "code",
      "source": [
        "# CPU-time for DataFrame type: 0:01:29.137773\n",
        "\n",
        "start = datetime.now()\n",
        "\n",
        "DF = lot_info\n",
        "for i in range(0, 1000):\n",
        "  tmp = [DF.loc[row_index, 'MOST_CHUCK'] for row_index in list(range(0, 10000))]\n",
        "  \n",
        "print(datetime.now() - start)"
      ],
      "execution_count": 40,
      "outputs": [
        {
          "output_type": "stream",
          "text": [
            "0:01:29.137773\n"
          ],
          "name": "stdout"
        }
      ]
    },
    {
      "metadata": {
        "id": "Z7T-mBiZzo95",
        "colab_type": "code",
        "colab": {
          "base_uri": "https://localhost:8080/",
          "height": 35
        },
        "outputId": "7df9ca13-79af-43af-a179-4680657e85da"
      },
      "cell_type": "code",
      "source": [
        "# CPU-time for numpy matrix type: 0:00:02.380553\n",
        "\n",
        "start = datetime.now()\n",
        "\n",
        "NP = DF.as_matrix()\n",
        "col_index = DF.columns.get_loc('MOST_CHUCK')\n",
        "\n",
        "for i in range(0, 1000):\n",
        "  tmp = [NP[row_index, col_index] for row_index in list(range(0, 10000))]\n",
        "  \n",
        "print(datetime.now() - start)\n"
      ],
      "execution_count": 39,
      "outputs": [
        {
          "output_type": "stream",
          "text": [
            "0:00:02.426359\n"
          ],
          "name": "stdout"
        }
      ]
    },
    {
      "metadata": {
        "id": "lQ4mncsr09OI",
        "colab_type": "code",
        "colab": {}
      },
      "cell_type": "code",
      "source": [
        ""
      ],
      "execution_count": 0,
      "outputs": []
    },
    {
      "metadata": {
        "id": "umU_nP536G1B",
        "colab_type": "code",
        "colab": {}
      },
      "cell_type": "code",
      "source": [
        "import pandas as pd\n",
        "import numpy as np\n",
        "import cupy as cp\n",
        "from datetime import datetime"
      ],
      "execution_count": 0,
      "outputs": []
    },
    {
      "metadata": {
        "id": "HuhLNlwE6IKo",
        "colab_type": "code",
        "colab": {}
      },
      "cell_type": "code",
      "source": [
        "lot_info = pd.DataFrame({'tmp':list(range(0, 10000)), 'MOST_CHUCK':list(range(0, 10000))})"
      ],
      "execution_count": 0,
      "outputs": []
    },
    {
      "metadata": {
        "id": "6msdEryk09n4",
        "colab_type": "code",
        "colab": {
          "base_uri": "https://localhost:8080/",
          "height": 35
        },
        "outputId": "7df11ff0-0d99-468d-fae3-7de0f74fe60f"
      },
      "cell_type": "code",
      "source": [
        "# GPU-time for DataFrame type: 0:01:22.443952\n",
        "\n",
        "start = datetime.now()\n",
        "\n",
        "DF = lot_info\n",
        "for i in range(0, 1000):\n",
        "  tmp = [DF.loc[row_index, 'MOST_CHUCK'] for row_index in list(range(0, 10000))]\n",
        "  \n",
        "print(datetime.now() - start)"
      ],
      "execution_count": 31,
      "outputs": [
        {
          "output_type": "stream",
          "text": [
            "0:01:22.443952\n"
          ],
          "name": "stdout"
        }
      ]
    },
    {
      "metadata": {
        "id": "kY_IFUxTzpI4",
        "colab_type": "code",
        "colab": {
          "base_uri": "https://localhost:8080/",
          "height": 35
        },
        "outputId": "cc8448d3-07b9-420e-882f-d1c201bee893"
      },
      "cell_type": "code",
      "source": [
        "# GPU-time for numpy matrix type: 0:00:02.189435\n",
        "\n",
        "start = datetime.now()\n",
        "\n",
        "NP = DF.as_matrix()\n",
        "col_index = DF.columns.get_loc('MOST_CHUCK')\n",
        "\n",
        "for i in range(0, 1000):\n",
        "  tmp = [NP[row_index, col_index] for row_index in list(range(0, 10000))]\n",
        "  \n",
        "print(datetime.now() - start)\n"
      ],
      "execution_count": 32,
      "outputs": [
        {
          "output_type": "stream",
          "text": [
            "0:00:02.189435\n"
          ],
          "name": "stdout"
        }
      ]
    },
    {
      "metadata": {
        "id": "qX7Q3qjn1SNI",
        "colab_type": "code",
        "colab": {
          "base_uri": "https://localhost:8080/",
          "height": 35
        },
        "outputId": "441ad785-bcdf-4eb3-80ad-90a45120795d"
      },
      "cell_type": "code",
      "source": [
        "# GPU-time for cupy matrix type: 0:00:28.637149\n",
        "\n",
        "start = datetime.now()\n",
        "\n",
        "CP = cp.array(NP)\n",
        "col_index = DF.columns.get_loc('MOST_CHUCK')\n",
        "\n",
        "for i in range(0, 1000):\n",
        "  tmp = [CP[row_index, col_index] for row_index in list(range(0, 10000))]\n",
        "  \n",
        "print(datetime.now() - start)\n",
        "\n"
      ],
      "execution_count": 33,
      "outputs": [
        {
          "output_type": "stream",
          "text": [
            "0:00:28.637149\n"
          ],
          "name": "stdout"
        }
      ]
    },
    {
      "metadata": {
        "id": "au4NlPfXxbGq",
        "colab_type": "code",
        "colab": {}
      },
      "cell_type": "code",
      "source": [
        ""
      ],
      "execution_count": 0,
      "outputs": []
    },
    {
      "metadata": {
        "id": "ep21V_CPxbJY",
        "colab_type": "code",
        "colab": {}
      },
      "cell_type": "code",
      "source": [
        ""
      ],
      "execution_count": 0,
      "outputs": []
    },
    {
      "metadata": {
        "id": "vq4eZO8PhWuE",
        "colab_type": "code",
        "colab": {}
      },
      "cell_type": "code",
      "source": [
        ""
      ],
      "execution_count": 0,
      "outputs": []
    },
    {
      "metadata": {
        "id": "lSYSIa0MaSvr",
        "colab_type": "code",
        "colab": {}
      },
      "cell_type": "code",
      "source": [
        "from google.colab import drive\n",
        "drive.mount('/content/drive')"
      ],
      "execution_count": 0,
      "outputs": []
    },
    {
      "metadata": {
        "id": "u2bVRdR4avuD",
        "colab_type": "code",
        "colab": {}
      },
      "cell_type": "code",
      "source": [
        "os.listdir('/content/drive/My Drive')"
      ],
      "execution_count": 0,
      "outputs": []
    }
  ]
}